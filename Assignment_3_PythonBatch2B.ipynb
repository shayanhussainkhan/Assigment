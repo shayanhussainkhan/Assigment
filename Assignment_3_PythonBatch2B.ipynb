{
 "cells": [
  {
   "cell_type": "markdown",
   "metadata": {},
   "source": [
    "# Task 1: Make a calculator using Python with addition , subtraction , multiplication , division and power."
   ]
  },
  {
   "cell_type": "code",
   "execution_count": 1,
   "metadata": {},
   "outputs": [
    {
     "name": "stdout",
     "output_type": "stream",
     "text": [
      "Enter First Value: 2\n",
      "Enter Second Value: 3\n",
      "Enter + for Addition\n",
      "Enter - for Subtraction\n",
      "Enter * for Multiplication\n",
      "Enter / for Divison\n",
      "Enter ** for Power\n",
      "Enter Operator: **\n",
      "8\n"
     ]
    }
   ],
   "source": [
    "#Task 1:\n",
    "val1= int(input(\"Enter First Value: \"))\n",
    "val2= int(input(\"Enter Second Value: \"))\n",
    "\n",
    "print(\"Enter + for Addition\")\n",
    "print(\"Enter - for Subtraction\")\n",
    "print(\"Enter * for Multiplication\")\n",
    "print(\"Enter / for Divison\")\n",
    "print(\"Enter ** for Power\")\n",
    "\n",
    "Operator = input(\"Enter Operator: \")\n",
    "\n",
    "if Operator =='+':\n",
    "    print(val1+val2)\n",
    "if Operator=='-':\n",
    "    print(val1-val2)\n",
    "if Operator=='*':\n",
    "    print(val1*val2)\n",
    "if Operator=='/':\n",
    "    print(val1/val2)\n",
    "if Operator=='**':\n",
    "    print(val1**val2)"
   ]
  },
  {
   "cell_type": "markdown",
   "metadata": {},
   "source": [
    "# Task 2: Write a program to check if there is any numeric value in list using for loop"
   ]
  },
  {
   "cell_type": "code",
   "execution_count": 36,
   "metadata": {},
   "outputs": [
    {
     "name": "stdout",
     "output_type": "stream",
     "text": [
      "Numeric Value is present in the list : 2\n",
      "Numeric Value is present in the list : 3\n",
      "Numeric Value is present in the list : 4\n",
      "Numeric Value is present in the list : 9\n",
      "Numeric Value is present in the list : 19.34561\n"
     ]
    }
   ],
   "source": [
    "lst = [2,3,4,9,\"10\",\"S\",19.34561]\n",
    "\n",
    "for i in lst:\n",
    "    if type(i) == int or type(i) == float:\n",
    "        print(\"Numeric Value is present in the list :\", i)\n",
    "        \n",
    "       "
   ]
  },
  {
   "cell_type": "markdown",
   "metadata": {},
   "source": [
    "# Task 3: Write a Python script to add a key to a dictionary"
   ]
  },
  {
   "cell_type": "code",
   "execution_count": 1,
   "metadata": {},
   "outputs": [
    {
     "name": "stdout",
     "output_type": "stream",
     "text": [
      "{'Name': 'Shayan Hussain Khan', 'Qualification': 'Undergraduate', 'Area of Study': ''}\n"
     ]
    }
   ],
   "source": [
    "#Task 3\n",
    "Dictionaryy = {\"Name\": \"Shayan Hussain Khan\",\n",
    "               \"Qualification\": \"Undergraduate\"}\n",
    "Dictionaryy[\"Area of Study\"] = \"\"\n",
    "\n",
    "print(Dictionaryy)"
   ]
  },
  {
   "cell_type": "markdown",
   "metadata": {},
   "source": [
    "# Task 4: Write a Python program to sum all the numeric items in a dictionary"
   ]
  },
  {
   "cell_type": "code",
   "execution_count": 2,
   "metadata": {},
   "outputs": [
    {
     "name": "stdout",
     "output_type": "stream",
     "text": [
      "Sum of all Numeric Values in dictioanry is: 6.0\n"
     ]
    }
   ],
   "source": [
    "#Task 4\n",
    "answer=0\n",
    "Dict = {1: \"SHAYAN HUSSAIN KHAN\",\n",
    "        2: 2.5,\n",
    "        3: 1,\n",
    "        4: \"EUROPE\",\n",
    "        5: 2.5}\n",
    "\n",
    "for i in Dict.values():\n",
    "    if type(i) == int or type(i) == float:\n",
    "        answer = answer+i\n",
    "\n",
    "print(\"Sum of all Numeric Values in dictioanry is:\", answer)\n",
    "\n"
   ]
  },
  {
   "cell_type": "markdown",
   "metadata": {},
   "source": [
    "# Task 5: Write a program to identify duplicate values from list"
   ]
  },
  {
   "cell_type": "code",
   "execution_count": 37,
   "metadata": {
    "scrolled": false
   },
   "outputs": [
    {
     "name": "stdout",
     "output_type": "stream",
     "text": [
      "Duplicated Values:  2\n",
      "Duplicated Values:  5\n",
      "Duplicated Values:  5\n",
      "Duplicated Values:  2\n"
     ]
    }
   ],
   "source": [
    "#Task 5\n",
    "listofdup = [2,5,3,5,2,1]\n",
    "\n",
    "for i in listofdup:\n",
    "    if listofdup.count(i) >1:\n",
    "        print(\"Duplicated Values: \", i)\n"
   ]
  },
  {
   "cell_type": "markdown",
   "metadata": {},
   "source": [
    "# Task 6: Write a Python script to check if a given key already exists in a dictionary"
   ]
  },
  {
   "cell_type": "code",
   "execution_count": 3,
   "metadata": {},
   "outputs": [
    {
     "name": "stdout",
     "output_type": "stream",
     "text": [
      "QualificationInter\n",
      "Inter  Not Existed in the Dictionary!\n"
     ]
    }
   ],
   "source": [
    "#Task6\n",
    "diction = {\"Name\": \"Shayan Hussain Khan\",\n",
    "        \"Programming Language\" : \"Python Language\"}\n",
    "\n",
    "keyy = input(\"Qualification\")\n",
    "\n",
    "for i in diction.keys():\n",
    "    if i == keyy:\n",
    "        print(keyy,\" Existed in the dictionary!\")\n",
    "        break\n",
    "    else:\n",
    "        print(keyy, \" Not Existed in the Dictionary!\")\n",
    "        break\n"
   ]
  },
  {
   "cell_type": "code",
   "execution_count": null,
   "metadata": {},
   "outputs": [],
   "source": []
  }
 ],
 "metadata": {
  "kernelspec": {
   "display_name": "Python 3",
   "language": "python",
   "name": "python3"
  },
  "language_info": {
   "codemirror_mode": {
    "name": "ipython",
    "version": 3
   },
   "file_extension": ".py",
   "mimetype": "text/x-python",
   "name": "python",
   "nbconvert_exporter": "python",
   "pygments_lexer": "ipython3",
   "version": "3.6.5"
  }
 },
 "nbformat": 4,
 "nbformat_minor": 2
}
