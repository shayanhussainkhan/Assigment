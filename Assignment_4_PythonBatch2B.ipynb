{
 "cells": [
  {
   "cell_type": "markdown",
   "metadata": {},
   "source": [
    "# TASK1: \n",
    "Use a dictionary to store information about a person you know. Store their first name, last name, age,\n",
    "and the city in which they live. You should have keys such as first_name, last_name, age, and city. Print\n",
    "each piece of information stored in your dictionary. Add a new key value pair about qualification then\n",
    "update the qualification value to high academic level then delete it."
   ]
  },
  {
   "cell_type": "code",
   "execution_count": 9,
   "metadata": {},
   "outputs": [
    {
     "name": "stdout",
     "output_type": "stream",
     "text": [
      "{'first_name': 'Shayan Hussain', 'last_name': 'Khan', 'Age': '18', 'City': 'Karachi'}\n",
      "{'first_name': 'Shayan Hussain', 'last_name': 'Khan', 'Age': '18', 'City': 'Karachi', 'Qualification': 'Intermediate'}\n",
      "{'first_name': 'Shayan Hussain', 'last_name': 'Khan', 'Age': '18', 'City': 'Karachi', 'Qualification': 'High Academic Level'}\n",
      "{'first_name': 'Shayan Hussain', 'last_name': 'Khan', 'Age': '18', 'City': 'Karachi'}\n"
     ]
    }
   ],
   "source": [
    "my_info = {\n",
    "    \"first_name\": \"Shayan Hussain\", \"last_name\":\"Khan\",\n",
    "    \"Age\":\"18\",\"City\":\"Karachi\" }\n",
    "\n",
    "print (my_info)\n",
    "\n",
    "my_info[\"Qualification\"]=\"Intermediate\"\n",
    "print (my_info)\n",
    "\n",
    "my_info[\"Qualification\"]=\"High Academic Level\"\n",
    "print (my_info)\n",
    "\n",
    "del my_info[\"Qualification\"]\n",
    "print (my_info)\n"
   ]
  },
  {
   "cell_type": "markdown",
   "metadata": {},
   "source": [
    "# TASK 2\n",
    "Make a dictionary called cities. Use the names of three cities as keys in your dictionary. Create a\n",
    "dictionary of information about each city and include the country that the city is in, its approximate\n",
    "population, and one fact about that city. The keys for each city’s dictionary should be something like\n",
    "country, population, and fact. Print the name of each city and all of the information you have stored\n",
    "about it."
   ]
  },
  {
   "cell_type": "code",
   "execution_count": 10,
   "metadata": {
    "scrolled": true
   },
   "outputs": [
    {
     "name": "stdout",
     "output_type": "stream",
     "text": [
      "{'Country': 'Pakistan', 'Population': '197 million', 'Fact': 'City of Light'}\n",
      "{'Country': 'England', 'Population': '55.98 million', 'Fact': 'London Eye'}\n",
      "{'Country': 'Germany', 'Population': '82.79 million', 'Fact': 'City of Canals'}\n"
     ]
    }
   ],
   "source": [
    "cities = {\n",
    "    \"Karachi\":{\n",
    "        \"Country\": \"Pakistan\", \"Population\": \"197 million\", \"Fact\": \"City of Light\"\n",
    "    },\n",
    "    \"London\":{\n",
    "        \"Country\": \"England\",  \"Population\": \"55.98 million\", \"Fact\": \"London Eye\"\n",
    "\n",
    "    },\n",
    "    \"Berlin\":{\n",
    "        \"Country\": \"Germany\", \"Population\": \"82.79 million\", \"Fact\": \"City of Canals\"\n",
    "\n",
    "    }\n",
    "}\n",
    "\n",
    "print (cities[\"Karachi\"])\n",
    "print (cities[\"London\"])\n",
    "print (cities[\"Berlin\"])"
   ]
  },
  {
   "cell_type": "markdown",
   "metadata": {},
   "source": [
    "# TASK3\n",
    "A movie theater charges different ticket prices depending on a person’s age. If a person is under the age\n",
    "of 3, the ticket is free; if they are between 3 and 12, the ticket is $10; and if they are over age 12, the\n",
    "ticket is $15. Write a loop in which you ask users their age, and then tell them the cost of their movie\n",
    "ticket."
   ]
  },
  {
   "cell_type": "code",
   "execution_count": 12,
   "metadata": {
    "scrolled": true
   },
   "outputs": [
    {
     "name": "stdout",
     "output_type": "stream",
     "text": [
      "Enter your Age to know about Movie Ticket Price: 2\n",
      "The ticket is free\n"
     ]
    }
   ],
   "source": [
    "value = True\n",
    "\n",
    "while value:\n",
    "    age = int(input(\"Enter your Age to know about Movie Ticket Price: \"))\n",
    "    \n",
    "    if age < 3:\n",
    "        print(\"The ticket is free\")\n",
    "        break\n",
    "    elif age>=3 and age<=12:\n",
    "        print(\"The ticket is of $10\")\n",
    "        break\n",
    "    else:\n",
    "        print(\"Ticket is $15\")\n",
    "        break\n",
    "        "
   ]
  },
  {
   "cell_type": "markdown",
   "metadata": {},
   "source": [
    "# TASK4\n",
    "Write a function called favorite_book() that accepts one parameter, title. The function should print a\n",
    "message, such as One of my favorite books is Alice in Wonderland. Call the function, making sure to\n",
    "include a book title as an argument in the function call."
   ]
  },
  {
   "cell_type": "code",
   "execution_count": 14,
   "metadata": {
    "scrolled": true
   },
   "outputs": [
    {
     "name": "stdout",
     "output_type": "stream",
     "text": [
      "One of my favorite book is  Alice in Wonderland\n",
      "One of my favorite book is  Sherlock Holmes\n"
     ]
    }
   ],
   "source": [
    "def favorite_book(title):\n",
    "    print (\"One of my favorite book is \",title)\n",
    "    \n",
    "favorite_book(\"Alice in Wonderland\")\n",
    "favorite_book(\"Sherlock Holmes\")"
   ]
  },
  {
   "cell_type": "markdown",
   "metadata": {},
   "source": [
    "# TASK5\n",
    "Guess the number game\n",
    "Write a program which randomly generate a number between 1 to 30 and ask the user in input field to\n",
    "guess the correct number. Give three chances to user guess the number and also give hint to user if\n",
    "hidden number is greater or smaller than the number he given to input field."
   ]
  },
  {
   "cell_type": "code",
   "execution_count": 1,
   "metadata": {},
   "outputs": [
    {
     "name": "stdout",
     "output_type": "stream",
     "text": [
      "=============You can only choose 3 times=============\n",
      "================HINT================\n",
      "try a number between 1 and 5\n",
      "enter your guess: 4\n",
      "try a number samller than : 4\n",
      "enter your guess: 2\n",
      "your guess is right\n"
     ]
    }
   ],
   "source": [
    "import random\n",
    "hidden = random.randint(1,30) \n",
    "def hint(hidden):\n",
    "    print(\"=============You can only choose 3 times=============\")\n",
    "    print(\"================HINT================\")\n",
    "    if hidden>= 1 and hidden < 5:\n",
    "        print(\"try a number between 1 and 5\")\n",
    "    elif hidden >= 5 and hidden < 10:\n",
    "        print(\"try a number between 5 and 10\")\n",
    "    elif hidden >= 10 and hidden < 15:\n",
    "        print(\"try a number between 10 and 20\")\n",
    "    elif hidden >= 15 and hidden < 20:\n",
    "        print(\"try a number between 15 and 20\")\n",
    "    elif hidden >= 20 and hidden < 25:\n",
    "        print(\"try a number between 20 and 35\")\n",
    "    elif hidden >= 25 and hidden <= 30:\n",
    "        print(\"try a number between 25 and 30\")\n",
    "    return None\n",
    "def userhint(user,hidden):\n",
    "    if hidden > user:\n",
    "        print(\"try a number graterthan : {}\".format(user))\n",
    "    elif hidden < user:\n",
    "        print(\"try a number samller than : {}\".format(user))\n",
    "    return None\n",
    "\n",
    "hint(hidden)\n",
    "for i in range(0,3):\n",
    "    user = int(input(\"enter your guess: \"))\n",
    "    userhint(user,hidden)\n",
    "    if user == hidden:\n",
    "        print(\"your guess is right\")\n",
    "        break"
   ]
  },
  {
   "cell_type": "code",
   "execution_count": null,
   "metadata": {},
   "outputs": [],
   "source": []
  }
 ],
 "metadata": {
  "kernelspec": {
   "display_name": "Python 3",
   "language": "python",
   "name": "python3"
  },
  "language_info": {
   "codemirror_mode": {
    "name": "ipython",
    "version": 3
   },
   "file_extension": ".py",
   "mimetype": "text/x-python",
   "name": "python",
   "nbconvert_exporter": "python",
   "pygments_lexer": "ipython3",
   "version": "3.6.5"
  }
 },
 "nbformat": 4,
 "nbformat_minor": 2
}
