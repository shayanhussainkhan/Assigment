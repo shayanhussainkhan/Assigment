{
 "cells": [
  {
   "cell_type": "code",
   "execution_count": 1,
   "metadata": {},
   "outputs": [
    {
     "name": "stdout",
     "output_type": "stream",
     "text": [
      "Enter obtained marks for Subject#1 : 99\n",
      "Enter obtained marks for Subject#2 : 96\n",
      "Enter obtained marks for Subject#3 : 93\n",
      "Enter obtained marks for Subject#4 : 91\n",
      "Enter obtained marks for Subject#5 : 92\n",
      "A+ Grade\n"
     ]
    }
   ],
   "source": [
    "#GENERATE MARKSHEET USING GRADES\n",
    "\n",
    "Subject1 = int(input(\"Enter obtained marks for Subject#1 : \"))\n",
    "Subject2 = int(input(\"Enter obtained marks for Subject#2 : \"))\n",
    "Subject3 = int(input(\"Enter obtained marks for Subject#3 : \"))\n",
    "Subject4 = int(input(\"Enter obtained marks for Subject#4 : \"))\n",
    "Subject5 = int(input(\"Enter obtained marks for Subject#5 : \"))\n",
    "\n",
    "Total = ((Subject1+Subject2+Subject3+Subject4+Subject5)/5)\n",
    "\n",
    "if(Total>=80 and Total<=100):\n",
    "    print(\"A+ Grade\")\n",
    "elif(Total>=70 and Total<80):\n",
    "    print(\"A Grade\")\n",
    "elif(Total>=60 and Total<70):\n",
    "    print(\"B Grade\")\n",
    "elif(Total>=50 and Total<60):\n",
    "    print(\"C Grade\")\n",
    "elif(Total>=40 and Total<50):\n",
    "    print(\"D Grade\")\n",
    "else:\n",
    "    print(\"Sorry you are FAIL! \")\n",
    "    "
   ]
  },
  {
   "cell_type": "code",
   "execution_count": 2,
   "metadata": {},
   "outputs": [
    {
     "name": "stdout",
     "output_type": "stream",
     "text": [
      "Enter Number to check whether it is Even or Odd: 20\n",
      "The number is Even! \n"
     ]
    }
   ],
   "source": [
    "#Check whether the input number is even or odd\n",
    "\n",
    "evenORodd = int(input(\"Enter Number to check whether it is Even or Odd: \"))\n",
    "\n",
    "if(evenORodd%2==0):\n",
    "    print (\"The number is Even! \")\n",
    "else:\n",
    "    print (\"The number is Odd! \")"
   ]
  },
  {
   "cell_type": "code",
   "execution_count": 3,
   "metadata": {},
   "outputs": [
    {
     "name": "stdout",
     "output_type": "stream",
     "text": [
      "4\n"
     ]
    }
   ],
   "source": [
    "#Printing Length of the List\n",
    "\n",
    "n= len([2,3,4,5])\n",
    "print(n)"
   ]
  },
  {
   "cell_type": "code",
   "execution_count": 4,
   "metadata": {},
   "outputs": [
    {
     "data": {
      "text/plain": [
       "6"
      ]
     },
     "execution_count": 4,
     "metadata": {},
     "output_type": "execute_result"
    }
   ],
   "source": [
    "#printing sun of all the numeric items in the list\n",
    "ListofSum = [2,3,1]\n",
    "total= sum(ListofSum)\n",
    "total"
   ]
  },
  {
   "cell_type": "code",
   "execution_count": 5,
   "metadata": {},
   "outputs": [
    {
     "name": "stdout",
     "output_type": "stream",
     "text": [
      "Enter How many numbers you want in a List: 4\n",
      "Enter Numbers: 1\n",
      "Enter Numbers: 20\n",
      "Enter Numbers: 16\n",
      "Enter Numbers: 3\n",
      "Largest Number present in the list is:  20\n"
     ]
    }
   ],
   "source": [
    "# printing largest number in the list\n",
    "lst = []\n",
    "value = int(input(\"Enter How many numbers you want in a List: \"))\n",
    "\n",
    "for i in range(value):\n",
    "    valueofList= int(input(\"Enter Numbers: \"))\n",
    "    lst.append(valueofList)\n",
    "    \n",
    "print(\"Largest Number present in the list is: \",max(lst))\n",
    "    "
   ]
  },
  {
   "cell_type": "code",
   "execution_count": 6,
   "metadata": {},
   "outputs": [
    {
     "name": "stdout",
     "output_type": "stream",
     "text": [
      "Elements that are less than 5 are:\n",
      "1\n",
      "1\n",
      "2\n",
      "3\n"
     ]
    }
   ],
   "source": [
    "#printing numbers that are less than 5\n",
    "\n",
    "a = [1,1,2,3,5,8,13,21,34,55,89]\n",
    "\n",
    "newlist = []\n",
    "\n",
    "print(\"Elements that are less than 5 are:\")\n",
    "\n",
    "for i in a:\n",
    "    if i < 5:\n",
    "        print(i)\n",
    "#newlist.append(i)\n",
    "#print(newlist)\n",
    "    \n"
   ]
  },
  {
   "cell_type": "code",
   "execution_count": null,
   "metadata": {},
   "outputs": [],
   "source": []
  }
 ],
 "metadata": {
  "kernelspec": {
   "display_name": "Python 3",
   "language": "python",
   "name": "python3"
  },
  "language_info": {
   "codemirror_mode": {
    "name": "ipython",
    "version": 3
   },
   "file_extension": ".py",
   "mimetype": "text/x-python",
   "name": "python",
   "nbconvert_exporter": "python",
   "pygments_lexer": "ipython3",
   "version": "3.6.5"
  }
 },
 "nbformat": 4,
 "nbformat_minor": 2
}
