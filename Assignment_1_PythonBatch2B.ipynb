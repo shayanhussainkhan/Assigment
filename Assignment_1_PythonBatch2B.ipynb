{
 "cells": [
  {
   "cell_type": "code",
   "execution_count": 5,
   "metadata": {},
   "outputs": [
    {
     "name": "stdout",
     "output_type": "stream",
     "text": [
      "Twinkle, twinkle, little star,\n",
      "      How I wonder what you are! \n",
      "            Up above the world so high,\n",
      "            Like a diamond in the sky.\n",
      "Twinkle, twinkle, little star,\n",
      "      How I wonder what you are \n"
     ]
    }
   ],
   "source": [
    "#Task 1\n",
    "print('Twinkle,'+\" \"+'twinkle,'+\" \"+\"little star,\")\n",
    "print('      How I wonder what you are! ')\n",
    "print('            Up above the world so high,')\n",
    "print('            Like a diamond in the sky.')\n",
    "print('Twinkle,'+\" \"+'twinkle,'+\" \"+\"little star,\")\n",
    "print('      How I wonder what you are ')\n"
   ]
  },
  {
   "cell_type": "code",
   "execution_count": 7,
   "metadata": {},
   "outputs": [
    {
     "name": "stdout",
     "output_type": "stream",
     "text": [
      "Python Version is: 3.6.5 |Anaconda, Inc.| (default, Mar 29 2018, 13:32:41) [MSC v.1900 64 bit (AMD64)]\n"
     ]
    }
   ],
   "source": [
    "#Task 2\n",
    "import sys\n",
    "print (\"Python Version is: \"+ sys.version)"
   ]
  },
  {
   "cell_type": "code",
   "execution_count": 13,
   "metadata": {},
   "outputs": [
    {
     "name": "stdout",
     "output_type": "stream",
     "text": [
      "01/11/19 21:31:26\n"
     ]
    }
   ],
   "source": [
    "#Task 3\n",
    "from datetime import datetime\n",
    "\n",
    "datetime = datetime.now()\n",
    "\n",
    "datetime_formatted = datetime.strftime(\"%d/%m/%y %H:%M:%S\")\n",
    "print(datetime_formatted)"
   ]
  },
  {
   "cell_type": "code",
   "execution_count": 15,
   "metadata": {},
   "outputs": [
    {
     "name": "stdout",
     "output_type": "stream",
     "text": [
      "Enter Radius of circle20\n",
      "1256.8\n"
     ]
    }
   ],
   "source": [
    "#Task 4\n",
    "radius = int(input(\"Enter Radius of circle\"))\n",
    "pie=3.142\n",
    "area= pie * (radius**2)\n",
    "print (area)"
   ]
  },
  {
   "cell_type": "code",
   "execution_count": 1,
   "metadata": {},
   "outputs": [
    {
     "name": "stdout",
     "output_type": "stream",
     "text": [
      "Enter First Name: Shayan\n",
      "Enter Last Name: Hussain Khan\n",
      "Hussain Khan Shayan\n"
     ]
    }
   ],
   "source": [
    "#Task5\n",
    "First_name = input(\"Enter First Name: \")\n",
    "Last_name = input(\"Enter Last Name: \")\n",
    "space = \" \"\n",
    "Reverse_Name = Last_name + space + First_name \n",
    "print (Reverse_Name)"
   ]
  },
  {
   "cell_type": "code",
   "execution_count": 19,
   "metadata": {},
   "outputs": [
    {
     "name": "stdout",
     "output_type": "stream",
     "text": [
      "Enter 1st Number: 2\n",
      "Enter 2nd Number: 2\n",
      "4\n"
     ]
    }
   ],
   "source": [
    "#Task 6\n",
    "num1 = int(input(\"Enter 1st Number: \"))\n",
    "num2 = int(input(\"Enter 2nd Number: \"))\n",
    "Total = num1 + num2 #addition of numbers user given\n",
    "print(Total)"
   ]
  },
  {
   "cell_type": "code",
   "execution_count": null,
   "metadata": {},
   "outputs": [],
   "source": []
  }
 ],
 "metadata": {
  "kernelspec": {
   "display_name": "Python 3",
   "language": "python",
   "name": "python3"
  },
  "language_info": {
   "codemirror_mode": {
    "name": "ipython",
    "version": 3
   },
   "file_extension": ".py",
   "mimetype": "text/x-python",
   "name": "python",
   "nbconvert_exporter": "python",
   "pygments_lexer": "ipython3",
   "version": "3.6.5"
  }
 },
 "nbformat": 4,
 "nbformat_minor": 2
}
